{
 "cells": [
  {
   "cell_type": "code",
   "execution_count": 1,
   "metadata": {},
   "outputs": [],
   "source": [
    "import sys\n",
    "import os\n",
    "import pandas as pd\n",
    "#Ensure Python can find the Code directory\n",
    "sys.path.append(os.path.abspath(\"..\"))\n",
    "\n",
    "import utils"
   ]
  },
  {
   "cell_type": "code",
   "execution_count": 2,
   "metadata": {},
   "outputs": [
    {
     "data": {
      "text/html": [
       "<div>\n",
       "<style scoped>\n",
       "    .dataframe tbody tr th:only-of-type {\n",
       "        vertical-align: middle;\n",
       "    }\n",
       "\n",
       "    .dataframe tbody tr th {\n",
       "        vertical-align: top;\n",
       "    }\n",
       "\n",
       "    .dataframe thead th {\n",
       "        text-align: right;\n",
       "    }\n",
       "</style>\n",
       "<table border=\"1\" class=\"dataframe\">\n",
       "  <thead>\n",
       "    <tr style=\"text-align: right;\">\n",
       "      <th></th>\n",
       "      <th>activity_year</th>\n",
       "      <th>census_tract</th>\n",
       "      <th>derived_race</th>\n",
       "      <th>action_taken</th>\n",
       "      <th>loan_amount</th>\n",
       "      <th>property_value</th>\n",
       "      <th>income</th>\n",
       "      <th>interest_rate</th>\n",
       "      <th>tract_minority_population_percent</th>\n",
       "      <th>tract_to_msa_income_percentage</th>\n",
       "      <th>denial_reason-1</th>\n",
       "      <th>covenant_count</th>\n",
       "      <th>was_approved</th>\n",
       "      <th>covenant_density</th>\n",
       "    </tr>\n",
       "  </thead>\n",
       "  <tbody>\n",
       "    <tr>\n",
       "      <th>0</th>\n",
       "      <td>2023</td>\n",
       "      <td>2.703706e+10</td>\n",
       "      <td>Race Not Available</td>\n",
       "      <td>6</td>\n",
       "      <td>185000.0</td>\n",
       "      <td>195000.0</td>\n",
       "      <td>NaN</td>\n",
       "      <td>6.125</td>\n",
       "      <td>40.37</td>\n",
       "      <td>73.48</td>\n",
       "      <td>10</td>\n",
       "      <td>0.0</td>\n",
       "      <td>False</td>\n",
       "      <td>NaN</td>\n",
       "    </tr>\n",
       "    <tr>\n",
       "      <th>1</th>\n",
       "      <td>2023</td>\n",
       "      <td>2.714103e+10</td>\n",
       "      <td>Race Not Available</td>\n",
       "      <td>6</td>\n",
       "      <td>375000.0</td>\n",
       "      <td>385000.0</td>\n",
       "      <td>NaN</td>\n",
       "      <td>6.625</td>\n",
       "      <td>10.64</td>\n",
       "      <td>121.26</td>\n",
       "      <td>10</td>\n",
       "      <td>0.0</td>\n",
       "      <td>False</td>\n",
       "      <td>NaN</td>\n",
       "    </tr>\n",
       "    <tr>\n",
       "      <th>2</th>\n",
       "      <td>2023</td>\n",
       "      <td>2.702395e+10</td>\n",
       "      <td>Race Not Available</td>\n",
       "      <td>6</td>\n",
       "      <td>105000.0</td>\n",
       "      <td>105000.0</td>\n",
       "      <td>NaN</td>\n",
       "      <td>6.125</td>\n",
       "      <td>8.92</td>\n",
       "      <td>90.13</td>\n",
       "      <td>10</td>\n",
       "      <td>0.0</td>\n",
       "      <td>False</td>\n",
       "      <td>NaN</td>\n",
       "    </tr>\n",
       "    <tr>\n",
       "      <th>3</th>\n",
       "      <td>2023</td>\n",
       "      <td>2.717110e+10</td>\n",
       "      <td>Race Not Available</td>\n",
       "      <td>6</td>\n",
       "      <td>285000.0</td>\n",
       "      <td>285000.0</td>\n",
       "      <td>NaN</td>\n",
       "      <td>6.750</td>\n",
       "      <td>13.27</td>\n",
       "      <td>104.37</td>\n",
       "      <td>10</td>\n",
       "      <td>0.0</td>\n",
       "      <td>False</td>\n",
       "      <td>NaN</td>\n",
       "    </tr>\n",
       "    <tr>\n",
       "      <th>4</th>\n",
       "      <td>2023</td>\n",
       "      <td>2.715948e+10</td>\n",
       "      <td>Race Not Available</td>\n",
       "      <td>6</td>\n",
       "      <td>175000.0</td>\n",
       "      <td>175000.0</td>\n",
       "      <td>NaN</td>\n",
       "      <td>6.875</td>\n",
       "      <td>5.87</td>\n",
       "      <td>82.22</td>\n",
       "      <td>10</td>\n",
       "      <td>0.0</td>\n",
       "      <td>False</td>\n",
       "      <td>NaN</td>\n",
       "    </tr>\n",
       "  </tbody>\n",
       "</table>\n",
       "</div>"
      ],
      "text/plain": [
       "   activity_year  census_tract        derived_race  action_taken  loan_amount  \\\n",
       "0           2023  2.703706e+10  Race Not Available             6     185000.0   \n",
       "1           2023  2.714103e+10  Race Not Available             6     375000.0   \n",
       "2           2023  2.702395e+10  Race Not Available             6     105000.0   \n",
       "3           2023  2.717110e+10  Race Not Available             6     285000.0   \n",
       "4           2023  2.715948e+10  Race Not Available             6     175000.0   \n",
       "\n",
       "   property_value  income  interest_rate  tract_minority_population_percent  \\\n",
       "0        195000.0     NaN          6.125                              40.37   \n",
       "1        385000.0     NaN          6.625                              10.64   \n",
       "2        105000.0     NaN          6.125                               8.92   \n",
       "3        285000.0     NaN          6.750                              13.27   \n",
       "4        175000.0     NaN          6.875                               5.87   \n",
       "\n",
       "   tract_to_msa_income_percentage  denial_reason-1  covenant_count  \\\n",
       "0                           73.48               10             0.0   \n",
       "1                          121.26               10             0.0   \n",
       "2                           90.13               10             0.0   \n",
       "3                          104.37               10             0.0   \n",
       "4                           82.22               10             0.0   \n",
       "\n",
       "   was_approved covenant_density  \n",
       "0         False              NaN  \n",
       "1         False              NaN  \n",
       "2         False              NaN  \n",
       "3         False              NaN  \n",
       "4         False              NaN  "
      ]
     },
     "execution_count": 2,
     "metadata": {},
     "output_type": "execute_result"
    }
   ],
   "source": [
    "#Use functions and packages\n",
    "df = utils.load_data()\n",
    "df.head()"
   ]
  },
  {
   "cell_type": "code",
   "execution_count": 3,
   "metadata": {},
   "outputs": [
    {
     "name": "stdout",
     "output_type": "stream",
     "text": [
      "<class 'pandas.core.frame.DataFrame'>\n",
      "RangeIndex: 100931 entries, 0 to 100930\n",
      "Data columns (total 14 columns):\n",
      " #   Column                             Non-Null Count   Dtype  \n",
      "---  ------                             --------------   -----  \n",
      " 0   activity_year                      100931 non-null  int64  \n",
      " 1   census_tract                       99915 non-null   float64\n",
      " 2   derived_race                       100931 non-null  object \n",
      " 3   action_taken                       100931 non-null  int64  \n",
      " 4   loan_amount                        100931 non-null  float64\n",
      " 5   property_value                     83491 non-null   float64\n",
      " 6   income                             88200 non-null   float64\n",
      " 7   interest_rate                      78125 non-null   float64\n",
      " 8   tract_minority_population_percent  100931 non-null  float64\n",
      " 9   tract_to_msa_income_percentage     100931 non-null  float64\n",
      " 10  denial_reason-1                    100931 non-null  int64  \n",
      " 11  covenant_count                     100931 non-null  float64\n",
      " 12  was_approved                       100931 non-null  bool   \n",
      " 13  covenant_density                   11169 non-null   object \n",
      "dtypes: bool(1), float64(8), int64(3), object(2)\n",
      "memory usage: 10.1+ MB\n"
     ]
    }
   ],
   "source": [
    "df.info()"
   ]
  },
  {
   "cell_type": "markdown",
   "metadata": {},
   "source": [
    "### Predictive Modeling - Based on Hennepin County dataset"
   ]
  },
  {
   "cell_type": "code",
   "execution_count": null,
   "metadata": {},
   "outputs": [],
   "source": [
    "#Split the data into training and test sets\n",
    "from sklearn.model_selection import train_test_split\n",
    "train, test = train_test_split(df, test_size=0.3, random_state=42)"
   ]
  },
  {
   "cell_type": "markdown",
   "metadata": {},
   "source": [
    "#### Logistic Regression"
   ]
  },
  {
   "cell_type": "markdown",
   "metadata": {},
   "source": [
    "#### Decision Tree"
   ]
  },
  {
   "cell_type": "markdown",
   "metadata": {},
   "source": [
    "#### Support Vector Machine"
   ]
  },
  {
   "cell_type": "markdown",
   "metadata": {},
   "source": [
    "#### Analysis and Comparison of Model Performance"
   ]
  },
  {
   "cell_type": "markdown",
   "metadata": {},
   "source": [
    "### Predictive Modeling - Applying the models to Ramsey County dataset"
   ]
  }
 ],
 "metadata": {
  "kernelspec": {
   "display_name": "base",
   "language": "python",
   "name": "python3"
  },
  "language_info": {
   "codemirror_mode": {
    "name": "ipython",
    "version": 3
   },
   "file_extension": ".py",
   "mimetype": "text/x-python",
   "name": "python",
   "nbconvert_exporter": "python",
   "pygments_lexer": "ipython3",
   "version": "3.11.7"
  }
 },
 "nbformat": 4,
 "nbformat_minor": 2
}
